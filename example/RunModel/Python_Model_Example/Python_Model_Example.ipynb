{
 "cells": [
  {
   "cell_type": "markdown",
   "metadata": {},
   "source": [
    "## Description"
   ]
  },
  {
   "cell_type": "markdown",
   "metadata": {},
   "source": [
    "This example file runs a simple Monte Carlo simulation. It uses RunModel to call a Python script that sums 3 independent standard normal random variables.\n",
    "\n",
    "Author: Michael D. Shields  \n",
    "Date: December 9, 2018"
   ]
  },
  {
   "cell_type": "markdown",
   "metadata": {},
   "source": [
    "## Required files"
   ]
  },
  {
   "cell_type": "markdown",
   "metadata": {},
   "source": [
    "To run this example, the following files must be present in the same directory as this Jupyter script:\n",
    "\n",
    "1) python_model_class.py\n",
    "2) python_model_function.py     "
   ]
  },
  {
   "cell_type": "code",
   "execution_count": 1,
   "metadata": {},
   "outputs": [],
   "source": [
    "from UQpy.SampleMethods import MCS\n",
    "from UQpy.RunModel import RunModel\n",
    "import matplotlib.pyplot as plt\n",
    "import time"
   ]
  },
  {
   "cell_type": "markdown",
   "metadata": {},
   "source": [
    "## Sample generation\n",
    "\n",
    "Use the MCS class to generate 10,000 random samples."
   ]
  },
  {
   "cell_type": "code",
   "execution_count": 2,
   "metadata": {},
   "outputs": [
    {
     "name": "stdout",
     "output_type": "stream",
     "text": [
      "\n",
      "3D N(0,1) random samples.\n",
      "[[ 1.32481664  1.49445501  1.69202224]\n",
      " [ 1.44204324  0.33978152 -0.15927249]\n",
      " [ 0.16738862 -0.7087116   0.00882049]\n",
      " ...\n",
      " [-0.14387312  1.82865109 -0.91715281]\n",
      " [-0.24221774  0.92808286 -1.02292996]\n",
      " [ 0.98773213  0.85773606  0.67901899]]\n"
     ]
    }
   ],
   "source": [
    "# Call MCS to generate samples\n",
    "x_mcs = MCS(dist_name=['Normal','Normal','Normal'], dist_params=[[0,1],[0,1],[0,1]], nsamples=10000) \n",
    "\n",
    "print(\"\\n3D N(0,1) random samples.\")\n",
    "print(x_mcs.samples)"
   ]
  },
  {
   "cell_type": "markdown",
   "metadata": {},
   "source": [
    "## Call to RunModel - Class example"
   ]
  },
  {
   "cell_type": "markdown",
   "metadata": {},
   "source": [
    "This example uses a Python model where the model is defined as a class. The model is in the Python script 'python_model_class.py'"
   ]
  },
  {
   "cell_type": "markdown",
   "metadata": {},
   "source": [
    "### Serial Execution"
   ]
  },
  {
   "cell_type": "code",
   "execution_count": 3,
   "metadata": {},
   "outputs": [
    {
     "name": "stdout",
     "output_type": "stream",
     "text": [
      "\n",
      "Time for serial execution:\n",
      "0.27726292610168457\n"
     ]
    },
    {
     "data": {
      "image/png": "[encoded data removed]",
      "text/plain": [
       "<Figure size 432x288 with 1 Axes>"
      ]
     },
     "metadata": {
      "needs_background": "light"
     },
     "output_type": "display_data"
    }
   ],
   "source": [
    "t = time.time()\n",
    "m = RunModel(samples=x_mcs.samples, model_script='python_model_class.py', model_object_name=\"SumRVs\")\n",
    "t_ser_python = time.time() - t\n",
    "print(\"\\nTime for serial execution:\")\n",
    "print(t_ser_python)\n",
    "\n",
    "plt.hist(m.qoi_list,50)\n",
    "plt.show()"
   ]
  },
  {
   "cell_type": "markdown",
   "metadata": {},
   "source": [
    "### Parallel Execution"
   ]
  },
  {
   "cell_type": "code",
   "execution_count": 4,
   "metadata": {},
   "outputs": [
    {
     "name": "stdout",
     "output_type": "stream",
     "text": [
      "\n",
      "Time for parallel execution:\n",
      "0.9514021873474121\n"
     ]
    },
    {
     "data": {
      "image/png": "[encoded data removed]",
      "text/plain": [
       "<Figure size 432x288 with 1 Axes>"
      ]
     },
     "metadata": {
      "needs_background": "light"
     },
     "output_type": "display_data"
    }
   ],
   "source": [
    "t = time.time()\n",
    "m = RunModel(samples=x_mcs.samples, model_script='python_model_class.py', model_object_name=\"SumRVs\", ntasks=4)\n",
    "t_par_python = time.time() - t\n",
    "print(\"\\nTime for parallel execution:\")\n",
    "print(t_par_python)\n",
    "\n",
    "plt.hist(m.qoi_list,50)\n",
    "plt.show()"
   ]
  },
  {
   "cell_type": "markdown",
   "metadata": {},
   "source": [
    "## Call to RunModel - function example"
   ]
  },
  {
   "cell_type": "markdown",
   "metadata": {},
   "source": [
    "This example uses a Python model where the model is defined as a function. The model is in the Python script 'python_model_function.py'."
   ]
  },
  {
   "cell_type": "markdown",
   "metadata": {},
   "source": [
    "### Serial Execution"
   ]
  },
  {
   "cell_type": "code",
   "execution_count": 5,
   "metadata": {},
   "outputs": [
    {
     "name": "stdout",
     "output_type": "stream",
     "text": [
      "\n",
      "Time for serial execution:\n",
      "0.2703101634979248\n"
     ]
    },
    {
     "data": {
      "image/png": "[encoded data removed]",
      "text/plain": [
       "<Figure size 432x288 with 1 Axes>"
      ]
     },
     "metadata": {
      "needs_background": "light"
     },
     "output_type": "display_data"
    }
   ],
   "source": [
    "t = time.time()\n",
    "m = RunModel(samples=x_mcs.samples, model_script='python_model_function.py', model_object_name=\"sum_rvs\")\n",
    "t_ser_python_func = time.time() - t\n",
    "print(\"\\nTime for serial execution:\")\n",
    "print(t_ser_python_func)\n",
    "\n",
    "plt.hist(m.qoi_list,50)\n",
    "plt.show()"
   ]
  },
  {
   "cell_type": "markdown",
   "metadata": {},
   "source": [
    "### Parallel Execution"
   ]
  },
  {
   "cell_type": "code",
   "execution_count": 6,
   "metadata": {},
   "outputs": [
    {
     "name": "stdout",
     "output_type": "stream",
     "text": [
      "\n",
      "Time for parallel execution:\n",
      "0.978736162185669\n"
     ]
    },
    {
     "data": {
      "image/png": "[encoded data removed]",
      "text/plain": [
       "<Figure size 432x288 with 1 Axes>"
      ]
     },
     "metadata": {
      "needs_background": "light"
     },
     "output_type": "display_data"
    }
   ],
   "source": [
    "t = time.time()\n",
    "m = RunModel(samples=x_mcs.samples, model_script='python_model_function.py', model_object_name=\"sum_rvs\", ntasks=4)\n",
    "t_par_python_func = time.time() - t\n",
    "print(\"\\nTime for parallel execution:\")\n",
    "print(t_par_python_func)\n",
    "\n",
    "plt.hist(m.qoi_list,50)\n",
    "plt.show()"
   ]
  }
 ],
 "metadata": {
  "kernelspec": {
   "display_name": "Python 3",
   "language": "python",
   "name": "python3"
  },
  "language_info": {
   "codemirror_mode": {
    "name": "ipython",
    "version": 3
   },
   "file_extension": ".py",
   "mimetype": "text/x-python",
   "name": "python",
   "nbconvert_exporter": "python",
   "pygments_lexer": "ipython3",
   "version": "3.7.3"
  }
 },
 "nbformat": 4,
 "nbformat_minor": 2
}
